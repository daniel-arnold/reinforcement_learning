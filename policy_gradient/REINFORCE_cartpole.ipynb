{
 "cells": [
  {
   "cell_type": "code",
   "execution_count": 2,
   "metadata": {},
   "outputs": [],
   "source": [
    "#Package Imports\n",
    "import random\n",
    "import gym\n",
    "import numpy as np\n",
    "from collections import deque\n",
    "import matplotlib.pyplot as plt\n",
    "import datetime\n",
    "\n",
    "#tensorflow inputs\n",
    "import tensorflow as tf\n",
    "from tensorflow.keras.models import Sequential\n",
    "from tensorflow.keras.layers import Dense\n",
    "from tensorflow.keras.optimizers import Adam\n",
    "\n",
    "env_name = \"CartPole-v1\""
   ]
  },
  {
   "cell_type": "code",
   "execution_count": 3,
   "metadata": {},
   "outputs": [],
   "source": [
    "#Setup Policy NN\n",
    "\n",
    "class REINFORCE_solver:\n",
    "    \n",
    "    def __init__(self, observation_space, action_space, log_dir):\n",
    "        \n",
    "        #Solver parameters\n",
    "        self.learning_rate = 0.001\n",
    "        self.gamma = 0.95\n",
    "        self.action_space = action_space\n",
    "        \n",
    "        #writer for tensorboard\n",
    "        self.summary_writer = tf.summary.FileWriter(log_dir)\n",
    "        \n",
    "        #NN parameters\n",
    "        #1 hidden layer NN      \n",
    "        self.model = Sequential()\n",
    "        self.model.add(Dense(12, input_shape=(observation_space,), activation=\"relu\", name=\"input\"))\n",
    "        self.model.add(Dense(12, activation=\"relu\", name=\"hidden\"))\n",
    "        self.model.add(Dense(self.action_space, activation=\"softmax\", name=\"output\"))\n",
    "        self.model.compile(loss=\"mse\", optimizer=Adam(lr=self.learning_rate))\n",
    "        print(self.model.summary())\n",
    "        \n",
    "    def act(self, state):\n",
    "        #compute the action probabilities from the model\n",
    "        probs = (self.model.predict(state)).squeeze()\n",
    "        #compute an action from the probabilities\n",
    "        action = np.random.choice(self.action_space, p = probs)\n",
    "        #compute the log of the probability of the chosen action\n",
    "        log_prob = np.log(probs[action])\n",
    "        return action, log_prob\n",
    "    \n",
    "    def act_validation(self, state):\n",
    "        #take the action with the highest probability\n",
    "        probs = (self.model.predict(state)).squeeze()\n",
    "        action = np.argmax(probs)\n",
    "        return action\n",
    "        \n",
    "    def update_policy(self, log_probs, rewards, states, actions):\n",
    "        \n",
    "        #compute discounted rewards:\n",
    "        disc_rewards = []\n",
    "        \n",
    "        for i in range(0, len(rewards)):\n",
    "            R_t = 0\n",
    "            exponent = 0\n",
    "            for r in rewards[i:]:\n",
    "                R_t += self.gamma **  exponent * r\n",
    "                exponent += 1\n",
    "            disc_rewards.append(R_t)\n",
    "            \n",
    "        #normalize discounted rewards\n",
    "        disc_rewards = np.asarray(disc_rewards)\n",
    "        disc_rewards = (disc_rewards - disc_rewards.mean()) / (disc_rewards.std())\n",
    "        \n",
    "        #compute the loss function\n",
    "        policy_grad = []\n",
    "        for log_prob, R_t in zip(log_probs, disc_rewards):\n",
    "            policy_grad.append(-log_prob * R_t)\n",
    "            \n",
    "        #update the model\n",
    "        advantage = np.zeros((len(states), self.action_space))\n",
    "                \n",
    "        for i in range(0, len(states)):\n",
    "            advantage[i][actions[i]] = policy_grad[i]\n",
    "        loss = self.model.fit(np.asarray(states).squeeze(), advantage, verbose=0)\n",
    "        return loss"
   ]
  },
  {
   "cell_type": "code",
   "execution_count": 5,
   "metadata": {},
   "outputs": [
    {
     "name": "stdout",
     "output_type": "stream",
     "text": [
      "_________________________________________________________________\n",
      "Layer (type)                 Output Shape              Param #   \n",
      "=================================================================\n",
      "input (Dense)                (None, 12)                60        \n",
      "_________________________________________________________________\n",
      "hidden (Dense)               (None, 12)                156       \n",
      "_________________________________________________________________\n",
      "output (Dense)               (None, 2)                 26        \n",
      "=================================================================\n",
      "Total params: 242\n",
      "Trainable params: 242\n",
      "Non-trainable params: 0\n",
      "_________________________________________________________________\n",
      "None\n",
      "[Episode 0] - Mean survival time over last 100 episodes was 10.0.\n",
      "[Episode 100] - Mean survival time over last 100 episodes was 53.475247524752476.\n",
      "[Episode 200] - Mean survival time over last 100 episodes was 106.8457711442786.\n",
      "[Episode 300] - Mean survival time over last 100 episodes was 143.71428571428572.\n",
      "[Episode 400] - Mean survival time over last 100 episodes was 175.57356608478804.\n",
      "Ran 460 episodes. Solved after 360 trials\n",
      "Program Complete\n"
     ]
    }
   ],
   "source": [
    "#Solve cartpole\n",
    "    \n",
    "#problem solved condition\n",
    "num_ticks_to_win = 195\n",
    "\n",
    "scores = []\n",
    "score_list = []\n",
    "mean_score_list = []\n",
    "num_trials = -1\n",
    "\n",
    "losses = []\n",
    "\n",
    "verbose = True\n",
    "\n",
    "#max number of episodes\n",
    "max_episodes = 10000\n",
    "\n",
    "#training environment - exploration policy\n",
    "env = gym.make(env_name)\n",
    "observation_space = env.observation_space.shape[0]\n",
    "action_space = env.action_space.n\n",
    "\n",
    "#validation environment - greedy policy\n",
    "env_validation = gym.make(env_name)\n",
    "\n",
    "#directory for logfiles (tensorboard)\n",
    "log_dir = \"logs/\" + datetime.datetime.now().strftime(\"%Y%m%d-%H%M%S\")\n",
    "\n",
    "reinforce_solver = REINFORCE_solver(observation_space, action_space, log_dir)\n",
    "\n",
    "for episode in range(0, max_episodes):\n",
    "    states = []\n",
    "    state = env.reset()\n",
    "    state = np.reshape(state, [1, observation_space])\n",
    "    states.append(state)\n",
    "    \n",
    "    actions = []\n",
    "    \n",
    "    log_probs = []\n",
    "    rewards = []\n",
    "    \n",
    "    done = False\n",
    "    step = 0\n",
    "    while not done:\n",
    "        #rollout with present policy\n",
    "        step += 1\n",
    "        #compute the action for the present state\n",
    "        action, log_prob = reinforce_solver.act(state)\n",
    "        actions.append(action)\n",
    "        log_probs.append(log_prob)\n",
    "        \n",
    "        #advance the environment\n",
    "        next_state, reward, done, info = env.step(action)\n",
    "        next_state = np.reshape(next_state, [1, observation_space])\n",
    "        states.append(next_state)\n",
    "        rewards.append(reward)\n",
    "        \n",
    "        state = next_state\n",
    "    states.pop()\n",
    "    \n",
    "    #Validation Policy\n",
    "    state = env_validation.reset()\n",
    "    state = np.reshape(state, [1, observation_space])\n",
    "    done_validation = False\n",
    "    step = 0\n",
    "    while not done_validation:\n",
    "        step += 1\n",
    "        #compute the greedy action for the present state\n",
    "        action = reinforce_solver.act_validation(state)\n",
    "        \n",
    "        #advance the environment\n",
    "        next_state, reward, done_validation, info = env_validation.step(action)\n",
    "        next_state = np.reshape(next_state, [1, observation_space])\n",
    "        state = next_state\n",
    "    \n",
    "    #number of steps the pole was upright\n",
    "    scores.append(step)\n",
    "    #dqn_solver.log_results('scores', step, episode)\n",
    "\n",
    "    mean_score = np.mean(scores)\n",
    "    #dqn_solver.log_results('mean_score(100)', mean_score, episode)\n",
    "\n",
    "    #score_list.append(step)\n",
    "    mean_score_list.append(mean_score)\n",
    "\n",
    "    if mean_score >= num_ticks_to_win and episode >= 100:\n",
    "        if verbose:\n",
    "            print('Ran {} episodes. Solved after {} trials'.format(episode, episode - 100))\n",
    "        num_trials = episode - 100\n",
    "        break\n",
    "        \n",
    "    if verbose and episode % 100 == 0:\n",
    "        print('[Episode {}] - Mean survival time over last 100 episodes was {}.'.format(episode, mean_score))\n",
    "    \n",
    "    loss = reinforce_solver.update_policy(log_probs, rewards, states, actions)\n",
    "    losses.append(loss)\n",
    "    \n",
    "print(\"Program Complete\")"
   ]
  },
  {
   "cell_type": "code",
   "execution_count": 6,
   "metadata": {},
   "outputs": [
    {
     "data": {
      "text/plain": [
       "[<matplotlib.lines.Line2D at 0x1bc82337550>]"
      ]
     },
     "execution_count": 6,
     "metadata": {},
     "output_type": "execute_result"
    },
    {
     "data": {
      "image/png": "[encoded data removed]",
      "text/plain": [
       "<Figure size 432x288 with 1 Axes>"
      ]
     },
     "metadata": {
      "needs_background": "light"
     },
     "output_type": "display_data"
    }
   ],
   "source": [
    "plt.plot(scores)"
   ]
  },
  {
   "cell_type": "code",
   "execution_count": 7,
   "metadata": {},
   "outputs": [
    {
     "data": {
      "text/plain": [
       "[<matplotlib.lines.Line2D at 0x1bc823d6898>]"
      ]
     },
     "execution_count": 7,
     "metadata": {},
     "output_type": "execute_result"
    },
    {
     "data": {
      "image/png": "[encoded data removed]",
      "text/plain": [
       "<Figure size 432x288 with 1 Axes>"
      ]
     },
     "metadata": {
      "needs_background": "light"
     },
     "output_type": "display_data"
    }
   ],
   "source": [
    "plt.plot(mean_score_list)"
   ]
  }
 ],
 "metadata": {
  "kernelspec": {
   "display_name": "Python 3",
   "language": "python",
   "name": "python3"
  },
  "language_info": {
   "codemirror_mode": {
    "name": "ipython",
    "version": 3
   },
   "file_extension": ".py",
   "mimetype": "text/x-python",
   "name": "python",
   "nbconvert_exporter": "python",
   "pygments_lexer": "ipython3",
   "version": "3.6.8"
  }
 },
 "nbformat": 4,
 "nbformat_minor": 4
}
